{
 "cells": [
  {
   "cell_type": "markdown",
   "metadata": {},
   "source": [
    "# 1  读取数据，随机打乱"
   ]
  },
  {
   "cell_type": "code",
   "execution_count": 1,
   "metadata": {},
   "outputs": [],
   "source": [
    "import os\n",
    "import random\n",
    "\n",
    "def get_dataset():\n",
    "    data = []\n",
    "    for root, dirs, files in os.walk(r'E:\\mix20_rand700_tokens_cleaned\\tokens\\neg'):\n",
    "        for file in files:\n",
    "            realpath = os.path.join(root, file)\n",
    "            with open(realpath, errors='ignore') as f:\n",
    "                data.append((f.read(), 'bad'))\n",
    "    for root, dirs, files in os.walk(r'E:\\mix20_rand700_tokens_cleaned\\tokens\\pos'):\n",
    "        for file in files:\n",
    "            realpath = os.path.join(root, file)\n",
    "            with open(realpath, errors='ignore') as f:\n",
    "                data.append((f.read(), 'good'))\n",
    "    random.shuffle(data)\n",
    "\n",
    "    return data"
   ]
  },
  {
   "cell_type": "code",
   "execution_count": 2,
   "metadata": {},
   "outputs": [],
   "source": [
    "data = get_dataset()"
   ]
  },
  {
   "cell_type": "markdown",
   "metadata": {},
   "source": [
    "# 2  将数据集划分为10份"
   ]
  },
  {
   "cell_type": "code",
   "execution_count": 3,
   "metadata": {},
   "outputs": [],
   "source": [
    "train_data = []\n",
    "train_target = []\n",
    "test_data = []\n",
    "test_target = []\n",
    "\n",
    "def train_and_test_data(data_):\n",
    "    filesize = int(0.1 * len(data_))\n",
    "    # 训练集和测试集的比例为9:1\n",
    "    for i in range(10):\n",
    "        train_data_ = [each[0] for each in data_[filesize*i : filesize*(i+1)]]\n",
    "        train_target_ = [each[1] for each in data_[filesize*i : filesize*(i+1)]]\n",
    "\n",
    "        test_data_ = [each[0] for each in data_[0:filesize*i] + data_[filesize*(i+1) :]]\n",
    "        test_target_ = [each[1] for each in data_[0:filesize*i] + data_[filesize*(i+1) :]]\n",
    "\n",
    "        train_data.append(train_data_)\n",
    "        train_target.append(train_target_)\n",
    "        test_data.append(test_data_)\n",
    "        test_target.append(test_target_)"
   ]
  },
  {
   "cell_type": "markdown",
   "metadata": {},
   "source": [
    "# 3  定义预测函数"
   ]
  },
  {
   "cell_type": "code",
   "execution_count": 4,
   "metadata": {},
   "outputs": [],
   "source": [
    "# 多项式朴素贝叶斯\n",
    "from sklearn.naive_bayes import MultinomialNB\n",
    "from sklearn.pipeline import Pipeline\n",
    "from sklearn.feature_extraction.text import TfidfVectorizer, HashingVectorizer, CountVectorizer\n",
    "from sklearn import metrics\n",
    "from sklearn.naive_bayes import BernoulliNB\n",
    "\n",
    "def nbc_classfier1(train_data,train_target,test_data,test_target):\n",
    "    nbc = Pipeline([('vect', TfidfVectorizer()),('clf', MultinomialNB(alpha=1.0)),])\n",
    "    nbc.fit(train_data, train_target) # 训练多项式朴素贝叶斯分类器\n",
    "    predict = nbc.predict(test_data)  # 在测试集上预测结果\n",
    "    count = 0 # 统计预测正确的结果个数\n",
    "    for left , right in zip(predict, test_target):\n",
    "          if left == right:\n",
    "                count += 1\n",
    "    result = float(count/len(test_target))\n",
    "    return result"
   ]
  },
  {
   "cell_type": "code",
   "execution_count": 5,
   "metadata": {},
   "outputs": [],
   "source": [
    "# 伯努利朴素贝叶斯\n",
    "from sklearn.naive_bayes import MultinomialNB\n",
    "from sklearn.pipeline import Pipeline\n",
    "from sklearn.feature_extraction.text import TfidfVectorizer, HashingVectorizer, CountVectorizer\n",
    "from sklearn import metrics\n",
    "from sklearn.naive_bayes import BernoulliNB\n",
    "\n",
    "def nbc_classfier2(train_data,train_target,test_data,test_target):\n",
    "    nbc= Pipeline([('vect', TfidfVectorizer()),('clf', BernoulliNB(alpha=0.1)),])\n",
    "    nbc.fit(train_data, train_target) # 训练伯努利朴素贝叶斯分类器\n",
    "    predict = nbc.predict(test_data) # 在测试集上预测结果\n",
    "    count = 0 # 统计预测正确的结果个数\n",
    "    for left , right in zip(predict, test_target):\n",
    "          if left == right:\n",
    "                count += 1\n",
    "    result = float(count/len(test_target))\n",
    "    return result"
   ]
  },
  {
   "cell_type": "markdown",
   "metadata": {},
   "source": [
    "# 4 进行预测"
   ]
  },
  {
   "cell_type": "code",
   "execution_count": null,
   "metadata": {},
   "outputs": [],
   "source": [
    "train_and_test_data(data)\n",
    "\n",
    "result_multi = 0.0\n",
    "for i in range(10):\n",
    "    result = 0.0\n",
    "    result = nbc_classfier1(train_data[i],train_target[i],test_data[i],test_target[i])\n",
    "    result_multi = result_multi + result\n",
    "\n",
    "result_multi = result_multi/10.0\n",
    "\n",
    "result_berno = 0.0\n",
    "for j in range(10):\n",
    "    result = 0.0\n",
    "    result = nbc_classfier2(train_data[j],train_target[j],test_data[j],test_target[j])\n",
    "    result_berno = result_berno + result\n",
    "\n",
    "result_berno = result_berno/10.0\n",
    "\n",
    "print(result_multi)\n",
    "print(result_berno)"
   ]
  },
  {
   "cell_type": "code",
   "execution_count": null,
   "metadata": {},
   "outputs": [],
   "source": []
  }
 ],
 "metadata": {
  "kernelspec": {
   "display_name": "Python 3",
   "language": "python",
   "name": "python3"
  },
  "language_info": {
   "codemirror_mode": {
    "name": "ipython",
    "version": 3
   },
   "file_extension": ".py",
   "mimetype": "text/x-python",
   "name": "python",
   "nbconvert_exporter": "python",
   "pygments_lexer": "ipython3",
   "version": "3.6.4"
  }
 },
 "nbformat": 4,
 "nbformat_minor": 2
}
